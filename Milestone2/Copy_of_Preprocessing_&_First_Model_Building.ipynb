{
  "nbformat": 4,
  "nbformat_minor": 0,
  "metadata": {
    "colab": {
      "provenance": [],
      "include_colab_link": true
    },
    "kernelspec": {
      "name": "python3",
      "display_name": "Python 3"
    },
    "language_info": {
      "name": "python"
    }
  },
  "cells": [
    {
      "cell_type": "markdown",
      "metadata": {
        "id": "view-in-github",
        "colab_type": "text"
      },
      "source": [
        "<a href=\"https://colab.research.google.com/github/anecz17/WaterfowlProject171/blob/main/Copy_of_Preprocessing_%26_First_Model_Building.ipynb\" target=\"_parent\"><img src=\"https://colab.research.google.com/assets/colab-badge.svg\" alt=\"Open In Colab\"/></a>"
      ]
    },
    {
      "cell_type": "markdown",
      "source": [
        "#Preprocessing"
      ],
      "metadata": {
        "id": "R5J7bhg9dqZw"
      }
    },
    {
      "cell_type": "code",
      "source": [
        "!pip install -U -q PyDrive\n",
        "import os\n",
        "from pydrive.auth import GoogleAuth\n",
        "from pydrive.drive import GoogleDrive\n",
        "from google.colab import auth\n",
        "from oauth2client.client import GoogleCredentials\n",
        "\n",
        "# 1. Authenticate and create the PyDrive client.\n",
        "auth.authenticate_user()\n",
        "gauth = GoogleAuth()\n",
        "gauth.credentials = GoogleCredentials.get_application_default()\n",
        "drive = GoogleDrive(gauth)\n",
        "\n",
        "# choose a local (colab) directory to store the data.\n",
        "local_download_path = os.path.expanduser('~/data/IND')\n",
        "try:\n",
        "  os.makedirs(local_download_path)\n",
        "except: pass\n",
        "\n",
        "# 2. Auto-iterate using the query syntax\n",
        "#    https://developers.google.com/drive/v2/web/search-parameters\n",
        "file_list = drive.ListFile(\n",
        "    {'q': \"'1OjkxToBoT-cMDlQXaIoroA6AensM1CPn' in parents\"}).GetList()\n",
        "\n",
        "for f in file_list:\n",
        "  # 3. Create & download by id.\n",
        "  print('title: %s, id: %s' % (f['title'], f['id']))\n",
        "  fname = os.path.join(local_download_path, f['title'])\n",
        "  print('downloading to {}'.format(fname))\n",
        "  f_ = drive.CreateFile({'id': f['id']})\n",
        "  f_.GetContentFile(fname)"
      ],
      "metadata": {
        "id": "MJ8VPR3Guovz",
        "outputId": "918ef5d2-e9a4-4738-ece3-11a561f67d3e",
        "colab": {
          "base_uri": "https://localhost:8080/"
        }
      },
      "execution_count": null,
      "outputs": [
        {
          "output_type": "stream",
          "name": "stdout",
          "text": [
            "title: 2019-11-14txt, id: 1NsQqjRtxFyCNLSKPdMVkLWQVnk6yGU4e\n",
            "downloading to /root/data/IND/2019-11-14txt\n",
            "title: 2019-11-13txt, id: 1XMt-81XpoG7d0jgnA1P8l7lB_d-vUDmT\n",
            "downloading to /root/data/IND/2019-11-13txt\n",
            "title: 2019-11-12txt, id: 1cutOO7vMDsMWltVaplfhi0WREFqWu2WC\n",
            "downloading to /root/data/IND/2019-11-12txt\n",
            "title: 2019-11-11txt, id: 1AYJTp0vt5cBEZfNaV3TbhH5ztmYsE_j0\n",
            "downloading to /root/data/IND/2019-11-11txt\n",
            "title: 2019-11-10txt, id: 1qWw32g6qAp0cED0VhzMBjINpGhpUt-Ek\n",
            "downloading to /root/data/IND/2019-11-10txt\n",
            "title: 2019-11-09txt, id: 1oy1dlreUfeRTvfpZPeyaV722Y6B-tumQ\n",
            "downloading to /root/data/IND/2019-11-09txt\n",
            "title: 2019-11-08txt, id: 1382sSx-F7F9PUOXmGUMptw_YSknG166Z\n",
            "downloading to /root/data/IND/2019-11-08txt\n",
            "title: 2019-11-07txt, id: 1h1i-KteHAr3iG3OfeqDHfuqgZJGTmNFq\n",
            "downloading to /root/data/IND/2019-11-07txt\n",
            "title: 2019-11-06txt, id: 1GRPk4WhC7VGsS5IFcquXz14BankHp2-q\n",
            "downloading to /root/data/IND/2019-11-06txt\n",
            "title: 2019-11-05txt, id: 1WNJdPQu4xQ8qTCffaLqy64fQ791UYPd7\n",
            "downloading to /root/data/IND/2019-11-05txt\n",
            "title: 2019-11-04txt, id: 1WuRle9cT1AHzSlfmiBMXYWt7zJi0FuIG\n",
            "downloading to /root/data/IND/2019-11-04txt\n",
            "title: 2019-11-03txt, id: 10DJLDPFQ1kopYE6bj2ggDlNviO1ndUy0\n",
            "downloading to /root/data/IND/2019-11-03txt\n",
            "title: 2019-11-02txt, id: 13qk_-zhT4b5uO9MXcu6L9zZ6DPxwblo3\n",
            "downloading to /root/data/IND/2019-11-02txt\n",
            "title: 2019-11-01txt, id: 1TeNGeoCvp905WFA2Xp7Llvr2YE4N1bhU\n",
            "downloading to /root/data/IND/2019-11-01txt\n"
          ]
        }
      ]
    },
    {
      "cell_type": "code",
      "source": [
        "import csv\n",
        "import pandas as pd\n",
        "import numpy as np\n",
        "\n",
        "PIXELS = 180\n",
        "\n",
        "data = np.empty(shape=(14,PIXELS, PIXELS))\n",
        "dates4data = []\n",
        "\n",
        "#directory\n",
        "directory = '/root/data/IND'\n",
        "# iterate over files in\n",
        "# that directory\n",
        "\n",
        "i = 0\n",
        "for filename in os.listdir(directory):\n",
        "    f = os.path.join(directory, filename)\n",
        "    # checking if it is a file\n",
        "    if os.path.isfile(f):\n",
        "      with open(f) as fileObject:\n",
        "        #for i in range(PIXELS + 1):\n",
        "          #line = next(fileObject)\n",
        "        line = next(fileObject)\n",
        "        #while line is not None:\n",
        "        header = line\n",
        "        for j in range(PIXELS):\n",
        "          line = next(fileObject)\n",
        "          values = np.empty(shape=PIXELS)\n",
        "          values = np.fromstring(line, dtype=float, sep=',')\n",
        "          data[i][j] = values\n",
        "          dates4data.append(fileObject.name)\n",
        "      i = i + 1\n",
        "\n",
        "data"
      ],
      "metadata": {
        "id": "ObXrEP9vwGdh",
        "outputId": "5deeab2c-a634-4862-b7fb-a893b2d8aa06",
        "colab": {
          "base_uri": "https://localhost:8080/"
        }
      },
      "execution_count": null,
      "outputs": [
        {
          "output_type": "execute_result",
          "data": {
            "text/plain": [
              "array([[[ -1.70833333,  10.60416667,   3.5625    , ...,   0.        ,\n",
              "           0.        ,   0.        ],\n",
              "        [ -2.45833333,   2.33333333,   1.47916667, ...,   0.        ,\n",
              "           0.        ,   0.        ],\n",
              "        [  2.20833333,   6.75      ,   6.10416667, ...,   0.        ,\n",
              "           0.        ,   0.        ],\n",
              "        ...,\n",
              "        [ -5.875     ,   7.27083333,   6.25      , ...,   0.        ,\n",
              "           0.        ,   0.        ],\n",
              "        [ -5.45833333,   0.60416667,  10.29166667, ...,   0.        ,\n",
              "           0.        ,   0.        ],\n",
              "        [ -2.91666667,   3.79166667,   4.33333333, ...,   0.        ,\n",
              "           0.        ,   0.        ]],\n",
              "\n",
              "       [[ 12.89583333,  11.77083333,   5.52083333, ...,   0.        ,\n",
              "           0.        ,   0.        ],\n",
              "        [ 15.83333333,  10.27083333,   6.58333333, ...,   0.        ,\n",
              "           0.        ,   0.        ],\n",
              "        [ 24.33333333,  10.3125    ,  -3.25      , ...,   0.        ,\n",
              "           0.        ,   0.        ],\n",
              "        ...,\n",
              "        [  2.375     ,   2.79166667,  -8.33333333, ...,   0.        ,\n",
              "           0.        ,   0.        ],\n",
              "        [  6.5625    ,   3.16666667,  -5.85416667, ...,   0.        ,\n",
              "           0.        ,   0.        ],\n",
              "        [  5.29166667,   8.89583333,   8.79166667, ...,   0.        ,\n",
              "           0.        ,   0.        ]],\n",
              "\n",
              "       [[ -7.625     ,  -2.97916667,   7.1875    , ...,   0.        ,\n",
              "           0.        ,   0.        ],\n",
              "        [-10.41666667,   6.72916667,   5.95833333, ...,   0.        ,\n",
              "           0.        ,   0.        ],\n",
              "        [ -7.125     ,   9.        ,   5.125     , ...,   0.        ,\n",
              "           0.        ,   0.        ],\n",
              "        ...,\n",
              "        [-10.875     ,   3.1875    ,  10.39583333, ...,   0.        ,\n",
              "           0.        ,   0.        ],\n",
              "        [ -9.1875    ,   7.22916667,   9.35416667, ...,   0.        ,\n",
              "           0.        ,   0.        ],\n",
              "        [-10.91666667,   5.20833333,   3.83333333, ...,   0.        ,\n",
              "           0.        ,   0.        ]],\n",
              "\n",
              "       ...,\n",
              "\n",
              "       [[  9.77083333,   7.1875    ,  16.95833333, ...,   0.        ,\n",
              "           0.        ,   0.        ],\n",
              "        [ 10.04166667,   7.22916667,  12.14583333, ...,   0.        ,\n",
              "           0.        ,   0.        ],\n",
              "        [  4.3125    ,   5.16666667,   9.35416667, ...,   0.        ,\n",
              "           0.        ,   0.        ],\n",
              "        ...,\n",
              "        [  0.33333333,   2.6875    ,  15.66666667, ...,   0.        ,\n",
              "           0.        ,   0.        ],\n",
              "        [ -2.1875    ,  13.60416667,   8.125     , ...,   0.        ,\n",
              "           0.        ,   0.        ],\n",
              "        [ -2.3125    ,   9.22916667,  10.85416667, ...,   0.        ,\n",
              "           0.        ,   0.        ]],\n",
              "\n",
              "       [[  9.75      ,   6.54166667,   5.125     , ...,   0.        ,\n",
              "           0.        ,   0.        ],\n",
              "        [  7.89583333,   9.75      ,  12.        , ...,   0.        ,\n",
              "           0.        ,   0.        ],\n",
              "        [  7.64583333,  10.70833333,  11.70833333, ...,   0.        ,\n",
              "           0.        ,   0.        ],\n",
              "        ...,\n",
              "        [  6.0625    ,  13.875     ,   8.16666667, ...,   0.        ,\n",
              "           0.        ,   0.        ],\n",
              "        [  8.54166667,  19.58333333,   6.875     , ...,   0.        ,\n",
              "           0.        ,   0.        ],\n",
              "        [  9.27083333,   7.04166667,   5.02083333, ...,   0.        ,\n",
              "           0.        ,   0.        ]],\n",
              "\n",
              "       [[-10.70833333,  -0.64583333,  10.04166667, ...,   0.        ,\n",
              "           0.        ,   0.        ],\n",
              "        [-10.08333333,  -3.0625    ,   7.29166667, ...,   0.        ,\n",
              "           0.        ,   0.        ],\n",
              "        [-10.10416667,   5.0625    ,   8.14583333, ...,   0.        ,\n",
              "           0.        ,   0.        ],\n",
              "        ...,\n",
              "        [-12.58333333,  -1.47916667,   8.29166667, ...,   0.        ,\n",
              "           0.        ,   0.        ],\n",
              "        [-14.58333333,   1.875     ,   7.97916667, ...,   0.        ,\n",
              "           0.        ,   0.        ],\n",
              "        [-14.        ,   7.02083333,   4.1875    , ...,   0.        ,\n",
              "           0.        ,   0.        ]]])"
            ]
          },
          "metadata": {},
          "execution_count": 6
        }
      ]
    },
    {
      "cell_type": "markdown",
      "source": [
        "Importing classification:"
      ],
      "metadata": {
        "id": "_uI-05YVfbCW"
      }
    },
    {
      "cell_type": "code",
      "source": [
        "!pip install -U -q PyDrive\n",
        "import os\n",
        "from pydrive.auth import GoogleAuth\n",
        "from pydrive.drive import GoogleDrive\n",
        "from google.colab import auth\n",
        "from oauth2client.client import GoogleCredentials\n",
        "\n",
        "# 1. Authenticate and create the PyDrive client.\n",
        "auth.authenticate_user()\n",
        "gauth = GoogleAuth()\n",
        "gauth.credentials = GoogleCredentials.get_application_default()\n",
        "drive = GoogleDrive(gauth)\n",
        "\n",
        "# choose a local (colab) directory to store the data.\n",
        "local_download_path = os.path.expanduser('~/data')\n",
        "try:\n",
        "  os.makedirs(local_download_path)\n",
        "except: pass\n",
        "\n",
        "# 2. Auto-iterate using the query syntax\n",
        "#    https://developers.google.com/drive/v2/web/search-parameters\n",
        "file_list = drive.ListFile(\n",
        "    {'q': \"'1MJCQNYTOR-xPwgow9VYxlNEp0lUVYd0V' in parents\"}).GetList()\n",
        "\n",
        "for f in file_list:\n",
        "  # 3. Create & download by id.\n",
        "  print('title: %s, id: %s' % (f['title'], f['id']))\n",
        "  fname = os.path.join(local_download_path, f['title'])\n",
        "  print('downloading to {}'.format(fname))\n",
        "  f_ = drive.CreateFile({'id': f['id']})\n",
        "  f_.GetContentFile(fname)"
      ],
      "metadata": {
        "id": "rhbYGHg4hVjh",
        "outputId": "bdd2bd8d-f4dd-437d-b778-51e34e77fbf2",
        "colab": {
          "base_uri": "https://localhost:8080/"
        }
      },
      "execution_count": null,
      "outputs": [
        {
          "output_type": "stream",
          "name": "stdout",
          "text": [
            "title: IND_allscreening.xlsx, id: 1VQRqNI1Qjeqb638gtiDtRvkLWn-OqhLw\n",
            "downloading to /root/data/IND_allscreening.xlsx\n",
            "title: ABR_allscreening.xlsx, id: 1fxhIn4E4zEzasir8TpC4TSqdN8Jkbe4U\n",
            "downloading to /root/data/ABR_allscreening.xlsx\n",
            "title: KDLH_allscreening.xlsx, id: 1YOqDsLDVG5c-18Ok526uuWLObx25ZYrc\n",
            "downloading to /root/data/KDLH_allscreening.xlsx\n",
            "title: KLVX_allscreening.xlsx, id: 1G0beWFoVntGiYWEDqYxcQ5IclM45qU7J\n",
            "downloading to /root/data/KLVX_allscreening.xlsx\n"
          ]
        }
      ]
    },
    {
      "cell_type": "code",
      "source": [
        "# Iterate through allscreening folder\n",
        "\n",
        "# import required module\n",
        "import os\n",
        "import pandas\n",
        "\n",
        "#directory\n",
        "directory = '/root/data'\n",
        "# iterate over files in\n",
        "# that directory\n",
        "\n",
        "for filename in os.listdir(directory):\n",
        "    f = os.path.join(directory, filename)\n",
        "    # checking if it is a file\n",
        "    if os.path.isfile(f):\n",
        "        sheet = pandas.read_excel(f)\n",
        "        print(sheet[{'DATE', 'STATUS'}])\n",
        "\n",
        "\n",
        "ind_c = pandas.read_excel('/root/data/IND_allscreening.xlsx')\n",
        "\n",
        "ind_c = ind_c[{'DATE', 'STATUS'}]\n",
        "\n",
        "ind_c = ind_c.head(14)\n",
        "\n",
        "\n",
        "contamination = {'NB' : 0, 'B' : 0, 'C' : 1}\n",
        "ind_c = ind_c['STATUS'].map(contamination)"
      ],
      "metadata": {
        "id": "uLd49ziEfeYB",
        "outputId": "f9bf5497-56e8-4ee7-a2e9-79ee2e2c63a0",
        "colab": {
          "base_uri": "https://localhost:8080/",
          "height": 1000
        }
      },
      "execution_count": null,
      "outputs": [
        {
          "output_type": "stream",
          "name": "stdout",
          "text": [
            "          DATE STATUS\n",
            "0   2019-11-01      B\n",
            "1   2019-11-02      C\n",
            "2   2019-11-03      B\n",
            "3   2019-11-04      C\n",
            "4   2019-11-05      B\n",
            "..         ...    ...\n",
            "147 2020-03-27      C\n",
            "148 2020-03-28      C\n",
            "149 2020-03-29      B\n",
            "150 2020-03-30      C\n",
            "151 2020-03-31      C\n",
            "\n",
            "[152 rows x 2 columns]\n",
            "          DATE STATUS\n",
            "0   2019-11-01      C\n",
            "1   2019-11-02      C\n",
            "2   2019-11-03      C\n",
            "3   2019-11-04      C\n",
            "4   2019-11-05      C\n",
            "..         ...    ...\n",
            "147 2020-03-27      C\n",
            "148 2020-03-28      C\n",
            "149 2020-03-29      C\n",
            "150 2020-03-30      C\n",
            "151 2020-03-31      C\n",
            "\n",
            "[152 rows x 2 columns]\n",
            "          DATE STATUS\n",
            "0   2019-11-01      B\n",
            "1   2019-11-02      C\n",
            "2   2019-11-03     NB\n",
            "3   2019-11-04      C\n",
            "4   2019-11-05      B\n",
            "..         ...    ...\n",
            "147 2020-03-27      C\n",
            "148 2020-03-28      C\n",
            "149 2020-03-29      B\n",
            "150 2020-03-30      C\n",
            "151 2020-03-31      C\n",
            "\n",
            "[152 rows x 2 columns]\n",
            "          DATE STATUS\n",
            "0   2019-10-01      C\n",
            "1   2019-10-02      C\n",
            "2   2019-10-03      C\n",
            "3   2019-10-04      C\n",
            "4   2019-10-05      C\n",
            "..         ...    ...\n",
            "178 2020-03-27      C\n",
            "179 2020-03-28      C\n",
            "180 2020-03-29      C\n",
            "181 2020-03-30      C\n",
            "182 2020-03-31      C\n",
            "\n",
            "[183 rows x 2 columns]\n"
          ]
        },
        {
          "output_type": "execute_result",
          "data": {
            "text/plain": [
              "         DATE STATUS\n",
              "0  2019-11-01      B\n",
              "1  2019-11-02      C\n",
              "2  2019-11-03     NB\n",
              "3  2019-11-04      C\n",
              "4  2019-11-05      B\n",
              "5  2019-11-06      C\n",
              "6  2019-11-07      B\n",
              "7  2019-11-08     NB\n",
              "8  2019-11-09     NB\n",
              "9  2019-11-10      C\n",
              "10 2019-11-11      C\n",
              "11 2019-11-12      B\n",
              "12 2019-11-13      C\n",
              "13 2019-11-14      B"
            ],
            "text/html": [
              "\n",
              "  <div id=\"df-186aaa39-6fb9-448b-aceb-a0fdb3d2f8b0\">\n",
              "    <div class=\"colab-df-container\">\n",
              "      <div>\n",
              "<style scoped>\n",
              "    .dataframe tbody tr th:only-of-type {\n",
              "        vertical-align: middle;\n",
              "    }\n",
              "\n",
              "    .dataframe tbody tr th {\n",
              "        vertical-align: top;\n",
              "    }\n",
              "\n",
              "    .dataframe thead th {\n",
              "        text-align: right;\n",
              "    }\n",
              "</style>\n",
              "<table border=\"1\" class=\"dataframe\">\n",
              "  <thead>\n",
              "    <tr style=\"text-align: right;\">\n",
              "      <th></th>\n",
              "      <th>DATE</th>\n",
              "      <th>STATUS</th>\n",
              "    </tr>\n",
              "  </thead>\n",
              "  <tbody>\n",
              "    <tr>\n",
              "      <th>0</th>\n",
              "      <td>2019-11-01</td>\n",
              "      <td>B</td>\n",
              "    </tr>\n",
              "    <tr>\n",
              "      <th>1</th>\n",
              "      <td>2019-11-02</td>\n",
              "      <td>C</td>\n",
              "    </tr>\n",
              "    <tr>\n",
              "      <th>2</th>\n",
              "      <td>2019-11-03</td>\n",
              "      <td>NB</td>\n",
              "    </tr>\n",
              "    <tr>\n",
              "      <th>3</th>\n",
              "      <td>2019-11-04</td>\n",
              "      <td>C</td>\n",
              "    </tr>\n",
              "    <tr>\n",
              "      <th>4</th>\n",
              "      <td>2019-11-05</td>\n",
              "      <td>B</td>\n",
              "    </tr>\n",
              "    <tr>\n",
              "      <th>5</th>\n",
              "      <td>2019-11-06</td>\n",
              "      <td>C</td>\n",
              "    </tr>\n",
              "    <tr>\n",
              "      <th>6</th>\n",
              "      <td>2019-11-07</td>\n",
              "      <td>B</td>\n",
              "    </tr>\n",
              "    <tr>\n",
              "      <th>7</th>\n",
              "      <td>2019-11-08</td>\n",
              "      <td>NB</td>\n",
              "    </tr>\n",
              "    <tr>\n",
              "      <th>8</th>\n",
              "      <td>2019-11-09</td>\n",
              "      <td>NB</td>\n",
              "    </tr>\n",
              "    <tr>\n",
              "      <th>9</th>\n",
              "      <td>2019-11-10</td>\n",
              "      <td>C</td>\n",
              "    </tr>\n",
              "    <tr>\n",
              "      <th>10</th>\n",
              "      <td>2019-11-11</td>\n",
              "      <td>C</td>\n",
              "    </tr>\n",
              "    <tr>\n",
              "      <th>11</th>\n",
              "      <td>2019-11-12</td>\n",
              "      <td>B</td>\n",
              "    </tr>\n",
              "    <tr>\n",
              "      <th>12</th>\n",
              "      <td>2019-11-13</td>\n",
              "      <td>C</td>\n",
              "    </tr>\n",
              "    <tr>\n",
              "      <th>13</th>\n",
              "      <td>2019-11-14</td>\n",
              "      <td>B</td>\n",
              "    </tr>\n",
              "  </tbody>\n",
              "</table>\n",
              "</div>\n",
              "      <button class=\"colab-df-convert\" onclick=\"convertToInteractive('df-186aaa39-6fb9-448b-aceb-a0fdb3d2f8b0')\"\n",
              "              title=\"Convert this dataframe to an interactive table.\"\n",
              "              style=\"display:none;\">\n",
              "        \n",
              "  <svg xmlns=\"http://www.w3.org/2000/svg\" height=\"24px\"viewBox=\"0 0 24 24\"\n",
              "       width=\"24px\">\n",
              "    <path d=\"M0 0h24v24H0V0z\" fill=\"none\"/>\n",
              "    <path d=\"M18.56 5.44l.94 2.06.94-2.06 2.06-.94-2.06-.94-.94-2.06-.94 2.06-2.06.94zm-11 1L8.5 8.5l.94-2.06 2.06-.94-2.06-.94L8.5 2.5l-.94 2.06-2.06.94zm10 10l.94 2.06.94-2.06 2.06-.94-2.06-.94-.94-2.06-.94 2.06-2.06.94z\"/><path d=\"M17.41 7.96l-1.37-1.37c-.4-.4-.92-.59-1.43-.59-.52 0-1.04.2-1.43.59L10.3 9.45l-7.72 7.72c-.78.78-.78 2.05 0 2.83L4 21.41c.39.39.9.59 1.41.59.51 0 1.02-.2 1.41-.59l7.78-7.78 2.81-2.81c.8-.78.8-2.07 0-2.86zM5.41 20L4 18.59l7.72-7.72 1.47 1.35L5.41 20z\"/>\n",
              "  </svg>\n",
              "      </button>\n",
              "      \n",
              "  <style>\n",
              "    .colab-df-container {\n",
              "      display:flex;\n",
              "      flex-wrap:wrap;\n",
              "      gap: 12px;\n",
              "    }\n",
              "\n",
              "    .colab-df-convert {\n",
              "      background-color: #E8F0FE;\n",
              "      border: none;\n",
              "      border-radius: 50%;\n",
              "      cursor: pointer;\n",
              "      display: none;\n",
              "      fill: #1967D2;\n",
              "      height: 32px;\n",
              "      padding: 0 0 0 0;\n",
              "      width: 32px;\n",
              "    }\n",
              "\n",
              "    .colab-df-convert:hover {\n",
              "      background-color: #E2EBFA;\n",
              "      box-shadow: 0px 1px 2px rgba(60, 64, 67, 0.3), 0px 1px 3px 1px rgba(60, 64, 67, 0.15);\n",
              "      fill: #174EA6;\n",
              "    }\n",
              "\n",
              "    [theme=dark] .colab-df-convert {\n",
              "      background-color: #3B4455;\n",
              "      fill: #D2E3FC;\n",
              "    }\n",
              "\n",
              "    [theme=dark] .colab-df-convert:hover {\n",
              "      background-color: #434B5C;\n",
              "      box-shadow: 0px 1px 3px 1px rgba(0, 0, 0, 0.15);\n",
              "      filter: drop-shadow(0px 1px 2px rgba(0, 0, 0, 0.3));\n",
              "      fill: #FFFFFF;\n",
              "    }\n",
              "  </style>\n",
              "\n",
              "      <script>\n",
              "        const buttonEl =\n",
              "          document.querySelector('#df-186aaa39-6fb9-448b-aceb-a0fdb3d2f8b0 button.colab-df-convert');\n",
              "        buttonEl.style.display =\n",
              "          google.colab.kernel.accessAllowed ? 'block' : 'none';\n",
              "\n",
              "        async function convertToInteractive(key) {\n",
              "          const element = document.querySelector('#df-186aaa39-6fb9-448b-aceb-a0fdb3d2f8b0');\n",
              "          const dataTable =\n",
              "            await google.colab.kernel.invokeFunction('convertToInteractive',\n",
              "                                                     [key], {});\n",
              "          if (!dataTable) return;\n",
              "\n",
              "          const docLinkHtml = 'Like what you see? Visit the ' +\n",
              "            '<a target=\"_blank\" href=https://colab.research.google.com/notebooks/data_table.ipynb>data table notebook</a>'\n",
              "            + ' to learn more about interactive tables.';\n",
              "          element.innerHTML = '';\n",
              "          dataTable['output_type'] = 'display_data';\n",
              "          await google.colab.output.renderOutput(dataTable, element);\n",
              "          const docLink = document.createElement('div');\n",
              "          docLink.innerHTML = docLinkHtml;\n",
              "          element.appendChild(docLink);\n",
              "        }\n",
              "      </script>\n",
              "    </div>\n",
              "  </div>\n",
              "  "
            ]
          },
          "metadata": {},
          "execution_count": 8
        }
      ]
    },
    {
      "cell_type": "code",
      "source": [],
      "metadata": {
        "id": "ElTEJScNQFyV"
      },
      "execution_count": null,
      "outputs": []
    },
    {
      "cell_type": "markdown",
      "source": [
        "#Models"
      ],
      "metadata": {
        "id": "e38ESYnPdtkG"
      }
    },
    {
      "cell_type": "code",
      "execution_count": null,
      "metadata": {
        "id": "Et-_X5eHZqHK",
        "outputId": "b5a61ca9-3ef1-4b9d-daf5-2d2cca34b5a0",
        "colab": {
          "base_uri": "https://localhost:8080/",
          "height": 53
        }
      },
      "outputs": [
        {
          "output_type": "display_data",
          "data": {
            "text/plain": [
              "(11, 180, 180)"
            ]
          },
          "metadata": {}
        },
        {
          "output_type": "display_data",
          "data": {
            "text/plain": [
              "(11,)"
            ]
          },
          "metadata": {}
        }
      ],
      "source": [
        "import pandas as pd\n",
        "from sklearn.model_selection import train_test_split\n",
        "from keras.models import Sequential\n",
        "from keras.layers import Dense\n",
        "\n",
        "# importing data\n",
        "X = data\n",
        "y = ind_c['STATUS']\n",
        "y = [ 1 if yh=='C' else 0 for yh in y ]\n",
        "y = pd.DataFrame(y)\n",
        "\n",
        "# splitting\n",
        "X_train, X_test, y_train, y_test = train_test_split(X, y, test_size=0.2, random_state=21)\n",
        "display(X_train.shape)\n",
        "display(y_train.shape)"
      ]
    },
    {
      "cell_type": "code",
      "source": [
        "model = Sequential() # Initialising the ANN\n",
        "\n",
        "# build your model and compile here:\n",
        "\n",
        "# Using these two layers:\n",
        "model.add(Dense(units = 32, activation = 'relu', input_dim = (X_train.shape[1])))\n",
        "model.add(Dense(units = 16, activation = 'sigmoid'))\n",
        "model.add(Dense(units = 1, activation = 'sigmoid'))\n",
        "\n",
        "# As you go above 10 epochs, the loss hovers around 0.643 until about epoch 70. At this point, it began decreasing again and was 0.61 at epoch 100. \n",
        "# It began reducing to 0.555 by epoch 150. At 500, it was still hovering 0.555.\n",
        "\n",
        "model.compile(optimizer = 'rmsprop', loss = 'binary_crossentropy')\n",
        "\n",
        "model.fit(X_train.as(float), y_train, batch_size = 1, epochs = 50)\n",
        "\n",
        "model1 = model"
      ],
      "metadata": {
        "id": "GhBc2yO-9fCj",
        "outputId": "7da2ae4a-8c27-4d14-9ac9-db5afe82b438",
        "colab": {
          "base_uri": "https://localhost:8080/",
          "height": 133
        }
      },
      "execution_count": null,
      "outputs": [
        {
          "output_type": "error",
          "ename": "SyntaxError",
          "evalue": "ignored",
          "traceback": [
            "\u001b[0;36m  File \u001b[0;32m\"<ipython-input-19-586794121532>\"\u001b[0;36m, line \u001b[0;32m15\u001b[0m\n\u001b[0;31m    model.fit(X_train.as(float), y_train, batch_size = 1, epochs = 50)\u001b[0m\n\u001b[0m                       ^\u001b[0m\n\u001b[0;31mSyntaxError\u001b[0m\u001b[0;31m:\u001b[0m invalid syntax\n"
          ]
        }
      ]
    },
    {
      "cell_type": "code",
      "source": [
        "ynew = model3.predict(X_test)\n",
        "ynew\n",
        "yhat_test = [ 1 if y>=0.5 else 0 for y in ynew ]\n",
        "yhat_test\n",
        "\n",
        "print(classification_report(y_test, yhat_test, labels=np.unique(yhat_test)))"
      ],
      "metadata": {
        "id": "G7EvWqMA_KbH"
      },
      "execution_count": null,
      "outputs": []
    },
    {
      "cell_type": "code",
      "source": [
        "import matplotlib.pyplot as plt\n",
        "\n",
        "fig, ax = plt.subplots(1, 1, figsize=(6, 6))\n",
        "plt.scatter(data[0][10], data[0][40])"
      ],
      "metadata": {
        "colab": {
          "base_uri": "https://localhost:8080/",
          "height": 395
        },
        "id": "tgfzVVcHyEHV",
        "outputId": "7457dc48-ef20-495f-9209-af63397c8ba3"
      },
      "execution_count": null,
      "outputs": [
        {
          "output_type": "execute_result",
          "data": {
            "text/plain": [
              "<matplotlib.collections.PathCollection at 0x7f39b280d2d0>"
            ]
          },
          "metadata": {},
          "execution_count": 31
        },
        {
          "output_type": "display_data",
          "data": {
            "text/plain": [
              "<Figure size 432x432 with 1 Axes>"
            ],
            "image/png": "[encoded data removed]"
          },
          "metadata": {
            "needs_background": "light"
          }
        }
      ]
    },
    {
      "cell_type": "markdown",
      "source": [
        "# Credits\n",
        "\n",
        "Importing data:\n",
        "https://stackoverflow.com/questions/48376580/google-colab-how-to-read-data-from-my-google-drive"
      ],
      "metadata": {
        "id": "o8TTuQ9jxNFi"
      }
    }
  ]
}
