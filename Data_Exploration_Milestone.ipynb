{
  "cells": [
    {
      "cell_type": "markdown",
      "source": [
        "**IMPORTING NON-STANDARD LIBRARIES**\n",
        "\n",
        "*pyart* will be central to creating our model as it has a class *Radar* and abilities to read NEXRAD files as objects of the class.\n",
        "\n",
        "Documentation: https://arm-doe.github.io/pyart/API/generated/pyart.core.Radar.html?highlight=radar#pyart.core.Radar"
      ],
      "metadata": {
        "id": "jGiEeJGxoQAW"
      }
    },
    {
      "cell_type": "code",
      "source": [
        "import platform\n",
        "mysystem = platform.system()\n",
        "\n",
        "# Check for windows\n",
        "if mysystem != 'Windows':\n",
        "    !unzip \"allscreenings\""
      ],
      "metadata": {
        "id": "sR9XSjC4s-GO"
      },
      "execution_count": null,
      "outputs": []
    },
    {
      "cell_type": "code",
      "execution_count": null,
      "metadata": {
        "id": "MBXIBLRi0o1d"
      },
      "outputs": [],
      "source": [
        "# install a pip package in the current jupyter kernel\n",
        "import sys\n",
        "!{sys.executable} -m pip install arm_pyart matplotlib\n",
        "!{sys.executable} -m pip install cartopy boto3\n",
        "!{sys.executable} -m pip install botocore\n",
        "#!{sys.executable} -m pip install botocore==1.27.60\n",
        "#!{sys.executable} -m pip install boto3"
      ]
    },
    {
      "cell_type": "markdown",
      "source": [
        "**GAME PLAN**\n",
        "\n",
        "1. Iterate through all stations, months, days\n",
        "2. Fetch NEXRAD files for each day and create arrays of this data.\n",
        "4. Link dates in XLSX sheets with dates of NEXRAD files.\n",
        "3. Process and train models on preprocessed files."
      ],
      "metadata": {
        "id": "eGxGHjjdpi6Q"
      }
    },
    {
      "cell_type": "markdown",
      "source": [
        "Here is in progress code that will complete step 1 and 2."
      ],
      "metadata": {
        "id": "9ik0prS5qFqe"
      }
    },
    {
      "cell_type": "code",
      "execution_count": null,
      "metadata": {
        "id": "RTr8ii8K8Z5X"
      },
      "outputs": [],
      "source": [
        "import pyart as pa\n",
        "\n",
        "import pandas as pd\n",
        "\n",
        "import boto3\n",
        "import botocore\n",
        "from botocore import UNSIGNED\n",
        "from botocore.client import Config\n",
        "\n",
        "import cartopy.crs as ccrs\n",
        "import matplotlib.pyplot as plt\n",
        "\n",
        "debug = True\n",
        "\n",
        "stations = [\"KABR\", \"KIND\", \"KJKL\", \"KDHL\"]\n",
        "months = [\"11\", \"12\", \"01\", \"02\", \"03\"]\n",
        "days = [\"01\", \"02\", \"03\", \"04\", \"05\", \"06\", \"07\", \"08\", \"09\"]\n",
        "for day in range(10,32):\n",
        "  days.append(day)\n",
        "\n",
        "if debug:\n",
        "  # less data to test\n",
        "  stations = [\"KIND\"]\n",
        "  months = [\"11\"]\n",
        "  days = [\"01\"]\n",
        "\n",
        "bucket_links = []\n",
        "\n",
        "s3 = boto3.resource('s3', config = Config(signature_version = botocore.UNSIGNED, user_agent_extra = 'Resource'))\n",
        "bucket = s3.Bucket('noaa-nexrad-level2')\n",
        "for station in stations:\n",
        "  for month in months:\n",
        "    for day in days:\n",
        "      for year in ['2019', '2020']:\n",
        "        for obj in bucket.objects.filter(Prefix = f'{year}/{month}/{day}/{station}/{station}{year}'):\n",
        "          if not (\"MDM\" in obj.key):\n",
        "            bucket_links.append(f's3://noaa-nexrad-level2/{obj.key}')\n",
        "\n",
        "KABR = []\n",
        "KIND = []\n",
        "KJKL = []\n",
        "KDHL = []\n",
        "aws_nexrad_level2_file = \"s3://noaa-nexrad-level2/2022/03/22/KHGX/KHGX20220322_120125_V06\"\n",
        "radar2 = pa.io.read_nexrad_archive(aws_nexrad_level2_file)\n",
        "\n",
        "for link in bucket_links:\n",
        "  print(link)\n",
        "  radar = pyart.io.read_nexrad_archive(link)\n",
        "  if \"KABR\" in link:\n",
        "    KABR.append(radar)\n",
        "  elif \"KIND\" in link:\n",
        "    KIND.append(radar)\n",
        "  elif \"KJKL\" in link:\n",
        "    KJKL.append(radar)\n",
        "  else:\n",
        "    KDHL.append(radar)\n",
        "  if debug: \n",
        "    break\n",
        "\n",
        "print(KABR)\n",
        "print(KIND)\n",
        "print(KJKL)\n",
        "print(KDHL)\n"
      ]
    },
    {
      "cell_type": "code",
      "source": [
        "import pyart\n",
        "\n",
        "if pyart.__version__ == \"1.7.0\":\n",
        "    if hasattr(pyart.graph, 'RadarMapDisplay'):\n",
        "        print(\"Ready to go\")\n",
        "    else:\n",
        "        print (\"ISSUES\\n\\nMissing\\Broken Basemap\\n\")\n",
        "        pyart._debug_info()\n",
        "else:\n",
        "    print (\"ISSUES\\n\\nWrong Py-ART version\\n\")\n",
        "    pyart._debug_info()"
      ],
      "metadata": {
        "id": "0sZUwW7Hx7fR"
      },
      "execution_count": null,
      "outputs": []
    },
    {
      "cell_type": "markdown",
      "source": [
        "For each day, there is a value associated with it: C (contaiminated) and NC (non-contaminated). In the data, this was evaluated by humans. Ideally, our model will be able to deduce this by itself. The following code fetches data from some example stations and returns the classification for all days recorded."
      ],
      "metadata": {
        "id": "LWelziJ2qUlL"
      }
    },
    {
      "cell_type": "code",
      "execution_count": 14,
      "metadata": {
        "id": "_eRwDLKPFXYt",
        "colab": {
          "base_uri": "https://localhost:8080/"
        },
        "outputId": "49bbd507-1ef4-4b98-c132-8e4d00d7368a"
      },
      "outputs": [
        {
          "output_type": "stream",
          "name": "stdout",
          "text": [
            "0      B\n",
            "1      C\n",
            "2      B\n",
            "3      C\n",
            "4      B\n",
            "      ..\n",
            "147    C\n",
            "148    C\n",
            "149    B\n",
            "150    C\n",
            "151    C\n",
            "Name: STATUS, Length: 152, dtype: object\n",
            "0       B\n",
            "1       C\n",
            "2      NB\n",
            "3       C\n",
            "4       B\n",
            "       ..\n",
            "147     C\n",
            "148     C\n",
            "149     B\n",
            "150     C\n",
            "151     C\n",
            "Name: STATUS, Length: 152, dtype: object\n",
            "0      C\n",
            "1      C\n",
            "2      C\n",
            "3      C\n",
            "4      C\n",
            "      ..\n",
            "178    C\n",
            "179    C\n",
            "180    C\n",
            "181    C\n",
            "182    C\n",
            "Name: STATUS, Length: 183, dtype: object\n",
            "0      C\n",
            "1      C\n",
            "2      C\n",
            "3      C\n",
            "4      C\n",
            "      ..\n",
            "147    C\n",
            "148    C\n",
            "149    C\n",
            "150    C\n",
            "151    C\n",
            "Name: STATUS, Length: 152, dtype: object\n"
          ]
        }
      ],
      "source": [
        "# Iterate through allscreening folder\n",
        "\n",
        "# import required module\n",
        "import os\n",
        "import pandas\n",
        "# assign directory\n",
        "directory = 'allscreenings'\n",
        " \n",
        "# iterate over files in\n",
        "# that directory\n",
        "for filename in os.listdir(directory):\n",
        "    f = os.path.join(directory, filename)\n",
        "\n",
        "    sheet = pandas.read_excel(f)\n",
        "    # checking if it is a file\n",
        "    if os.path.isfile(f):\n",
        "        print(sheet['STATUS'])"
      ]
    }
  ],
  "metadata": {
    "colab": {
      "provenance": []
    },
    "kernelspec": {
      "display_name": "Python 3",
      "name": "python3"
    },
    "language_info": {
      "name": "python"
    }
  },
  "nbformat": 4,
  "nbformat_minor": 0
}